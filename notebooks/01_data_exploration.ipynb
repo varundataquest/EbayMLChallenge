{
 "cells": [
  {
   "cell_type": "markdown",
   "metadata": {},
   "source": [
    "# EvalAI Challenge #2508 - Data Exploration\n",
    "\n",
    "This notebook helps you explore the challenge dataset and understand the problem."
   ]
  },
  {
   "cell_type": "code",
   "execution_count": null,
   "metadata": {},
   "outputs": [],
   "source": [
    "import pandas as pd\n",
    "import numpy as np\n",
    "import matplotlib.pyplot as plt\n",
    "import seaborn as sns\n",
    "from pathlib import Path\n",
    "\n",
    "# Set up plotting\n",
    "plt.style.use('seaborn-v0_8')\n",
    "sns.set_palette("husl")\n",
    "%matplotlib inline"
   ]
  },
  {
   "cell_type": "code",
   "execution_count": null,
   "metadata": {},
   "outputs": [],
   "source": [
    "# Load data\n",
    "data_dir = Path('data')\n",
    "\n",
    "# Load training data\n",
    "train_data = pd.read_csv(data_dir / 'train.csv')\n",
    "print(f"Training data shape: {train_data.shape}")\n",
    "print(f"Columns: {list(train_data.columns)}")"
   ]
  },
  {
   "cell_type": "code",
   "execution_count": null,
   "metadata": {},
   "outputs": [],
   "source": [
    "# Basic exploration\n",
    "print("Data types:")\n",
    "print(train_data.dtypes)\n",
    "print("\nMissing values:")\n",
    "print(train_data.isnull().sum())"
   ]
  },
  {
   "cell_type": "code",
   "execution_count": null,
   "metadata": {},
   "outputs": [],
   "source": [
    "# Statistical summary\n",
    "train_data.describe()"
   ]
  },
  {
   "cell_type": "code",
   "execution_count": null,
   "metadata": {},
   "outputs": [],
   "source": [
    "# Target distribution\n",
    "if 'target' in train_data.columns:\n",
    "    plt.figure(figsize=(8, 6))\n",
    "    train_data['target'].value_counts().plot(kind='bar')\n",
    "    plt.title('Target Distribution')\n",
    "    plt.xlabel('Target Class')\n",
    "    plt.ylabel('Count')\n",
    "    plt.show()"
   ]
  },
  {
   "cell_type": "code",
   "execution_count": null,
   "metadata": {},
   "outputs": [],
   "source": [
    "# Feature correlations\n",
    "numerical_cols = train_data.select_dtypes(include=[np.number]).columns\n",
    "if len(numerical_cols) > 1:\n",
    "    plt.figure(figsize=(12, 8))\n",
    "    sns.heatmap(train_data[numerical_cols].corr(), annot=True, cmap='coolwarm', center=0)\n",
    "    plt.title('Feature Correlations')\n",
    "    plt.tight_layout()\n",
    "    plt.show()"
   ]
  }
 ],
 "metadata": {
  "kernelspec": {
   "display_name": "Python 3",
   "language": "python",
   "name": "python3"
  },
  "language_info": {
   "codemirror_mode": {
    "name": "ipython",
    "version": 3
   },
   "file_extension": ".py",
   "mimetype": "text/x-python",
   "name": "python",
   "nbconvert_exporter": "python",
   "pygments_lexer": "ipython3",
   "version": "3.8.5"
  }
 },
 "nbformat": 4,
 "nbformat_minor": 4
}